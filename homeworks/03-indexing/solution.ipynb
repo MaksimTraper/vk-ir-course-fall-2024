{
 "cells": [
  {
   "cell_type": "code",
   "execution_count": 1,
   "metadata": {},
   "outputs": [],
   "source": [
    "import argparse\n",
    "from timeit import default_timer as timer\n",
    "from collections import Counter, defaultdict\n",
    "import csv\n",
    "import hashlib\n",
    "\n",
    "from nltk import tokenize\n",
    "import numpy as np\n",
    "import pandas as pd\n",
    "\n",
    "def preprocess(text):\n",
    "    # Tokenize\n",
    "    tokenizer = tokenize.RegexpTokenizer(r'\\w+')\n",
    "    tokens = tokenizer.tokenize(text)\n",
    "\n",
    "    # Normalize\n",
    "    return [token.lower() for token in tokens]\n",
    "\n",
    "def hash_term(term):\n",
    "    return int(hashlib.md5(term.encode()).hexdigest(), 16) % (10**8)"
   ]
  },
  {
   "cell_type": "code",
   "execution_count": 2,
   "metadata": {},
   "outputs": [],
   "source": [
    "inverted_index = defaultdict(set)\n",
    "\n",
    "with open('./datasets/vkmarco-docs.tsv', 'r', encoding='utf-8') as file:\n",
    "    reader = csv.reader(file, delimiter='\\t')\n",
    "\n",
    "    for i, text in enumerate(reader):\n",
    "        tokens = preprocess(f'{text[2]}. {text[3]}')\n",
    "        doc = text[0]\n",
    "        \n",
    "        for token in tokens:\n",
    "            hashed_token = hash_term(token)\n",
    "            inverted_index[hashed_token].add(doc)"
   ]
  },
  {
   "cell_type": "code",
   "execution_count": 3,
   "metadata": {},
   "outputs": [],
   "source": [
    "with open(f'inverted_index.txt', 'w', encoding='utf-8') as file:\n",
    "    for word, docs_id in inverted_index.items():\n",
    "        file.write(f'{word}: {sorted(docs_id)}\\n')"
   ]
  },
  {
   "cell_type": "code",
   "execution_count": 4,
   "metadata": {},
   "outputs": [],
   "source": [
    "with open(f'inverted_index.txt', 'r', encoding='utf-8') as file:\n",
    "    file_lines = file.readlines()"
   ]
  },
  {
   "cell_type": "code",
   "execution_count": 5,
   "metadata": {},
   "outputs": [],
   "source": [
    "inverted_index = {}\n",
    "\n",
    "for line in file_lines:\n",
    "    word, doc_ids = line.split(':')\n",
    "    doc_ids_cleaned = doc_ids.strip()[1:-1].replace(' ', '').replace('\\'', '').split(',')\n",
    "    inverted_index[int(word)] = list(doc_ids_cleaned)\n",
    "    #inverted_index[word] = list(doc_ids_cleaned)"
   ]
  },
  {
   "cell_type": "code",
   "execution_count": 8,
   "metadata": {},
   "outputs": [],
   "source": [
    "query_doc = {}\n",
    "\n",
    "with open('./datasets/objects.csv', 'r', encoding='utf-8') as file:\n",
    "    reader = csv.reader(file)\n",
    "    next(reader)  # Пропускаем заголовок\n",
    "    for parts in reader:\n",
    "        key = int(parts[0])\n",
    "        value = parts[1:]\n",
    "        query_doc[key] = value"
   ]
  },
  {
   "cell_type": "code",
   "execution_count": 164,
   "metadata": {},
   "outputs": [],
   "source": [
    "with open(f'./datasets/vkmarco-doceval-queries.tsv', 'r', encoding='utf-8') as file:\n",
    "    doceval_queries = list(csv.reader(file, delimiter='\\t'))"
   ]
  },
  {
   "cell_type": "code",
   "execution_count": 10,
   "metadata": {},
   "outputs": [
    {
     "ename": "NameError",
     "evalue": "name 'doceval_queries' is not defined",
     "output_type": "error",
     "traceback": [
      "\u001b[1;31m---------------------------------------------------------------------------\u001b[0m",
      "\u001b[1;31mNameError\u001b[0m                                 Traceback (most recent call last)",
      "Cell \u001b[1;32mIn[10], line 4\u001b[0m\n\u001b[0;32m      1\u001b[0m num_docs \u001b[38;5;241m=\u001b[39m \u001b[38;5;241m9025\u001b[39m\n\u001b[1;32m----> 4\u001b[0m result_matrix \u001b[38;5;241m=\u001b[39m np\u001b[38;5;241m.\u001b[39mzeros((\u001b[38;5;28mlen\u001b[39m(doceval_queries) \u001b[38;5;241m*\u001b[39m num_docs, \u001b[38;5;241m2\u001b[39m))\n\u001b[0;32m      5\u001b[0m result_matrix[:, \u001b[38;5;241m0\u001b[39m] \u001b[38;5;241m=\u001b[39m np\u001b[38;5;241m.\u001b[39marange(\u001b[38;5;241m1\u001b[39m, \u001b[38;5;28mlen\u001b[39m(doceval_queries) \u001b[38;5;241m*\u001b[39m num_docs \u001b[38;5;241m+\u001b[39m \u001b[38;5;241m1\u001b[39m)\n\u001b[0;32m      8\u001b[0m \u001b[38;5;28;01mfor\u001b[39;00m query \u001b[38;5;129;01min\u001b[39;00m doceval_queries:\n",
      "\u001b[1;31mNameError\u001b[0m: name 'doceval_queries' is not defined"
     ]
    }
   ],
   "source": [
    "num_docs = 9025\n",
    "\n",
    "\n",
    "result_matrix = np.zeros((len(doceval_queries) * num_docs, 2))\n",
    "result_matrix[:, 0] = np.arange(1, len(doceval_queries) * num_docs + 1)\n",
    "\n",
    "\n",
    "for query in doceval_queries:\n",
    "    print(query)\n",
    "    docs_ids = []\n",
    "    tokens = preprocess(query[1])\n",
    "    num_query = query[0]\n",
    "\n",
    "    for token in tokens[1:]:\n",
    "        hashed_token = hash_term(token)\n",
    "        if hashed_token in inverted_index:\n",
    "            docs_ids.append(set(inverted_index[hashed_token]))\n",
    "\n",
    "    if len(docs_ids) > 0:\n",
    "        result = docs_ids[0]\n",
    "        for doc_id in docs_ids[1:]:\n",
    "            result = result.intersection(doc_id)\n",
    "\n",
    "        objects_id = [query_doc[(num_query, doc)] for doc in result]\n",
    "        if len(objects_id) > 0:\n",
    "            result_matrix[np.array(objects_id) - 1, 1] = 1"
   ]
  },
  {
   "cell_type": "code",
   "execution_count": 170,
   "metadata": {},
   "outputs": [],
   "source": [
    "import pandas as pd\n",
    "submission = pd.DataFrame(result_matrix, columns=[\"ObjectId\", \"Label\"])\n",
    "submission[\"Label\"] = submission[\"Label\"].fillna(0).astype(int)\n",
    "submission['ObjectId'] = submission['ObjectId'].astype(int)\n",
    "submission.to_csv(\"submission.csv\", index=False)"
   ]
  },
  {
   "cell_type": "code",
   "execution_count": 171,
   "metadata": {},
   "outputs": [
    {
     "data": {
      "text/html": [
       "<div>\n",
       "<style scoped>\n",
       "    .dataframe tbody tr th:only-of-type {\n",
       "        vertical-align: middle;\n",
       "    }\n",
       "\n",
       "    .dataframe tbody tr th {\n",
       "        vertical-align: top;\n",
       "    }\n",
       "\n",
       "    .dataframe thead th {\n",
       "        text-align: right;\n",
       "    }\n",
       "</style>\n",
       "<table border=\"1\" class=\"dataframe\">\n",
       "  <thead>\n",
       "    <tr style=\"text-align: right;\">\n",
       "      <th></th>\n",
       "      <th>ObjectId</th>\n",
       "      <th>Label</th>\n",
       "    </tr>\n",
       "  </thead>\n",
       "  <tbody>\n",
       "    <tr>\n",
       "      <th>79</th>\n",
       "      <td>80</td>\n",
       "      <td>1</td>\n",
       "    </tr>\n",
       "    <tr>\n",
       "      <th>1744</th>\n",
       "      <td>1745</td>\n",
       "      <td>1</td>\n",
       "    </tr>\n",
       "    <tr>\n",
       "      <th>4564</th>\n",
       "      <td>4565</td>\n",
       "      <td>1</td>\n",
       "    </tr>\n",
       "    <tr>\n",
       "      <th>4888</th>\n",
       "      <td>4889</td>\n",
       "      <td>1</td>\n",
       "    </tr>\n",
       "    <tr>\n",
       "      <th>7741</th>\n",
       "      <td>7742</td>\n",
       "      <td>1</td>\n",
       "    </tr>\n",
       "    <tr>\n",
       "      <th>...</th>\n",
       "      <td>...</td>\n",
       "      <td>...</td>\n",
       "    </tr>\n",
       "    <tr>\n",
       "      <th>900913</th>\n",
       "      <td>900914</td>\n",
       "      <td>1</td>\n",
       "    </tr>\n",
       "    <tr>\n",
       "      <th>901078</th>\n",
       "      <td>901079</td>\n",
       "      <td>1</td>\n",
       "    </tr>\n",
       "    <tr>\n",
       "      <th>901328</th>\n",
       "      <td>901329</td>\n",
       "      <td>1</td>\n",
       "    </tr>\n",
       "    <tr>\n",
       "      <th>901887</th>\n",
       "      <td>901888</td>\n",
       "      <td>1</td>\n",
       "    </tr>\n",
       "    <tr>\n",
       "      <th>902351</th>\n",
       "      <td>902352</td>\n",
       "      <td>1</td>\n",
       "    </tr>\n",
       "  </tbody>\n",
       "</table>\n",
       "<p>10296 rows × 2 columns</p>\n",
       "</div>"
      ],
      "text/plain": [
       "        ObjectId  Label\n",
       "79            80      1\n",
       "1744        1745      1\n",
       "4564        4565      1\n",
       "4888        4889      1\n",
       "7741        7742      1\n",
       "...          ...    ...\n",
       "900913    900914      1\n",
       "901078    901079      1\n",
       "901328    901329      1\n",
       "901887    901888      1\n",
       "902351    902352      1\n",
       "\n",
       "[10296 rows x 2 columns]"
      ]
     },
     "execution_count": 171,
     "metadata": {},
     "output_type": "execute_result"
    }
   ],
   "source": [
    "submission[submission['Label'] == 1]"
   ]
  },
  {
   "cell_type": "code",
   "execution_count": null,
   "metadata": {},
   "outputs": [],
   "source": []
  }
 ],
 "metadata": {
  "kernelspec": {
   "display_name": "rtx_3060",
   "language": "python",
   "name": "python3"
  },
  "language_info": {
   "codemirror_mode": {
    "name": "ipython",
    "version": 3
   },
   "file_extension": ".py",
   "mimetype": "text/x-python",
   "name": "python",
   "nbconvert_exporter": "python",
   "pygments_lexer": "ipython3",
   "version": "3.12.3"
  }
 },
 "nbformat": 4,
 "nbformat_minor": 2
}
